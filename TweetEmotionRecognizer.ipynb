{
 "cells": [
  {
   "cell_type": "code",
   "execution_count": 1,
   "metadata": {
    "colab": {
     "base_uri": "https://localhost:8080/"
    },
    "id": "KyDDMFpmzE-p",
    "outputId": "58fc26ba-f744-48f4-aad6-4f4cf90ae99a"
   },
   "outputs": [
    {
     "name": "stdout",
     "output_type": "stream",
     "text": [
      "Requirement already satisfied: nlp in /usr/local/lib/python3.7/dist-packages (0.4.0)\n",
      "Requirement already satisfied: requests>=2.19.0 in /usr/local/lib/python3.7/dist-packages (from nlp) (2.23.0)\n",
      "Requirement already satisfied: xxhash in /usr/local/lib/python3.7/dist-packages (from nlp) (2.0.2)\n",
      "Requirement already satisfied: tqdm>=4.27 in /usr/local/lib/python3.7/dist-packages (from nlp) (4.41.1)\n",
      "Requirement already satisfied: numpy in /usr/local/lib/python3.7/dist-packages (from nlp) (1.19.5)\n",
      "Requirement already satisfied: dill in /usr/local/lib/python3.7/dist-packages (from nlp) (0.3.4)\n",
      "Requirement already satisfied: pyarrow>=0.16.0 in /usr/local/lib/python3.7/dist-packages (from nlp) (3.0.0)\n",
      "Requirement already satisfied: filelock in /usr/local/lib/python3.7/dist-packages (from nlp) (3.0.12)\n",
      "Requirement already satisfied: pandas in /usr/local/lib/python3.7/dist-packages (from nlp) (1.1.5)\n",
      "Requirement already satisfied: urllib3!=1.25.0,!=1.25.1,<1.26,>=1.21.1 in /usr/local/lib/python3.7/dist-packages (from requests>=2.19.0->nlp) (1.24.3)\n",
      "Requirement already satisfied: certifi>=2017.4.17 in /usr/local/lib/python3.7/dist-packages (from requests>=2.19.0->nlp) (2021.5.30)\n",
      "Requirement already satisfied: chardet<4,>=3.0.2 in /usr/local/lib/python3.7/dist-packages (from requests>=2.19.0->nlp) (3.0.4)\n",
      "Requirement already satisfied: idna<3,>=2.5 in /usr/local/lib/python3.7/dist-packages (from requests>=2.19.0->nlp) (2.10)\n",
      "Requirement already satisfied: pytz>=2017.2 in /usr/local/lib/python3.7/dist-packages (from pandas->nlp) (2018.9)\n",
      "Requirement already satisfied: python-dateutil>=2.7.3 in /usr/local/lib/python3.7/dist-packages (from pandas->nlp) (2.8.1)\n",
      "Requirement already satisfied: six>=1.5 in /usr/local/lib/python3.7/dist-packages (from python-dateutil>=2.7.3->pandas->nlp) (1.15.0)\n"
     ]
    }
   ],
   "source": [
    "!pip install nlp"
   ]
  },
  {
   "cell_type": "code",
   "execution_count": 2,
   "metadata": {
    "id": "pJSlpajLzHjH"
   },
   "outputs": [],
   "source": [
    "%matplotlib inline\n",
    "import tensorflow as tf\n",
    "import numpy as np\n",
    "import random\n",
    "import matplotlib.pyplot as plt\n",
    "from sklearn.metrics import confusion_matrix\n",
    "import nlp"
   ]
  },
  {
   "cell_type": "code",
   "execution_count": 3,
   "metadata": {
    "id": "ONLy_uUwzVbb"
   },
   "outputs": [],
   "source": [
    "def show_history(h):\n",
    "    epochs_trained = len(h.history['loss'])\n",
    "    plt.figure(figsize=(16, 6))\n",
    "\n",
    "    plt.subplot(1, 2, 1)\n",
    "    plt.plot(range(0, epochs_trained), h.history.get('accuracy'), label='Training')\n",
    "    plt.plot(range(0, epochs_trained), h.history.get('val_accuracy'), label='Validation')\n",
    "    plt.ylim([0., 1.])\n",
    "    plt.xlabel('Epochs')\n",
    "    plt.ylabel('Accuracy')\n",
    "    plt.legend()\n",
    "\n",
    "    plt.subplot(1, 2, 2)\n",
    "    plt.plot(range(0, epochs_trained), h.history.get('loss'), label='Training')\n",
    "    plt.plot(range(0, epochs_trained), h.history.get('val_loss'), label='Validation')\n",
    "    plt.xlabel('Epochs')\n",
    "    plt.ylabel('Loss')\n",
    "    plt.legend()\n",
    "    plt.show()"
   ]
  },
  {
   "cell_type": "code",
   "execution_count": 4,
   "metadata": {
    "id": "WukhVvFL0zT5"
   },
   "outputs": [],
   "source": [
    "def show_confusion_matrix(y_true, y_pred, classes):\n",
    "    from sklearn.metrics import confusion_matrix\n",
    "    \n",
    "    cm = confusion_matrix(y_true, y_pred, normalize='true')\n",
    "\n",
    "    plt.figure(figsize=(8, 8))\n",
    "    sp = plt.subplot(1, 1, 1)\n",
    "    ctx = sp.matshow(cm)\n",
    "    plt.xticks(list(range(0, 6)), labels=classes)\n",
    "    plt.yticks(list(range(0, 6)), labels=classes)\n",
    "    plt.colorbar(ctx)\n",
    "    plt.show()\n"
   ]
  },
  {
   "cell_type": "code",
   "execution_count": 5,
   "metadata": {
    "colab": {
     "base_uri": "https://localhost:8080/"
    },
    "id": "F5wkuhNe14Zk",
    "outputId": "e823adce-9d33-4ad5-dead-61793105a126"
   },
   "outputs": [
    {
     "name": "stdout",
     "output_type": "stream",
     "text": [
      "Using TensorFlow version :  2.5.0\n"
     ]
    }
   ],
   "source": [
    "print(\"Using TensorFlow version : \",tf.__version__)"
   ]
  },
  {
   "cell_type": "code",
   "execution_count": 6,
   "metadata": {
    "colab": {
     "base_uri": "https://localhost:8080/"
    },
    "id": "CnvX2b9H1_Oi",
    "outputId": "a9cf7274-54ee-47c5-efef-f4c516137dc2"
   },
   "outputs": [
    {
     "name": "stderr",
     "output_type": "stream",
     "text": [
      "Using custom data configuration default\n"
     ]
    }
   ],
   "source": [
    "dataset=nlp.load_dataset('emotion')"
   ]
  },
  {
   "cell_type": "code",
   "execution_count": 7,
   "metadata": {
    "colab": {
     "base_uri": "https://localhost:8080/"
    },
    "id": "U2rXWI7O2Gp6",
    "outputId": "dda9bd56-97d7-40f7-fc8a-86d888e0ac73"
   },
   "outputs": [
    {
     "data": {
      "text/plain": [
       "{'test': Dataset(features: {'text': Value(dtype='string', id=None), 'label': Value(dtype='string', id=None)}, num_rows: 2000),\n",
       " 'train': Dataset(features: {'text': Value(dtype='string', id=None), 'label': Value(dtype='string', id=None)}, num_rows: 16000),\n",
       " 'validation': Dataset(features: {'text': Value(dtype='string', id=None), 'label': Value(dtype='string', id=None)}, num_rows: 2000)}"
      ]
     },
     "execution_count": 7,
     "metadata": {
      "tags": []
     },
     "output_type": "execute_result"
    }
   ],
   "source": [
    "dataset"
   ]
  },
  {
   "cell_type": "code",
   "execution_count": 8,
   "metadata": {
    "id": "HS4S5eYA2K6K"
   },
   "outputs": [],
   "source": [
    "train=dataset['train']\n",
    "val=dataset['validation']\n",
    "test=dataset['test']"
   ]
  },
  {
   "cell_type": "code",
   "execution_count": 9,
   "metadata": {
    "colab": {
     "base_uri": "https://localhost:8080/"
    },
    "id": "3q2CMOfi2U9Z",
    "outputId": "5a3c89cf-e396-420b-d053-4b1d4be90011"
   },
   "outputs": [
    {
     "data": {
      "text/plain": [
       "Dataset(features: {'text': Value(dtype='string', id=None), 'label': Value(dtype='string', id=None)}, num_rows: 16000)"
      ]
     },
     "execution_count": 9,
     "metadata": {
      "tags": []
     },
     "output_type": "execute_result"
    }
   ],
   "source": [
    "train"
   ]
  },
  {
   "cell_type": "code",
   "execution_count": 10,
   "metadata": {
    "id": "o65n-HY32Weq"
   },
   "outputs": [],
   "source": [
    "def get_tweets(data):\n",
    "  tweets=[x['text'] for x in data]\n",
    "  labels=[x['label'] for x in data]\n",
    "  return tweets,labels"
   ]
  },
  {
   "cell_type": "code",
   "execution_count": 11,
   "metadata": {
    "id": "h5Mz7z602wQI"
   },
   "outputs": [],
   "source": [
    "tweets,labels=get_tweets(train)"
   ]
  },
  {
   "cell_type": "code",
   "execution_count": 12,
   "metadata": {
    "colab": {
     "base_uri": "https://localhost:8080/"
    },
    "id": "0Gnm-ziA20YI",
    "outputId": "8f3c5ca7-1bff-4c6f-fdf5-29af26ded47f"
   },
   "outputs": [
    {
     "data": {
      "text/plain": [
       "('i didnt feel humiliated', 'sadness')"
      ]
     },
     "execution_count": 12,
     "metadata": {
      "tags": []
     },
     "output_type": "execute_result"
    }
   ],
   "source": [
    "tweets[0],labels[0]"
   ]
  },
  {
   "cell_type": "code",
   "execution_count": 13,
   "metadata": {
    "id": "lddGJKQL23SI"
   },
   "outputs": [],
   "source": [
    "from tensorflow.keras.preprocessing.text import Tokenizer"
   ]
  },
  {
   "cell_type": "code",
   "execution_count": 14,
   "metadata": {
    "id": "dtWkAtoR3TYg"
   },
   "outputs": [],
   "source": [
    "tokenizer=Tokenizer(num_words=10000,oov_token='<UNK>')\n",
    "tokenizer.fit_on_texts(tweets)"
   ]
  },
  {
   "cell_type": "code",
   "execution_count": 15,
   "metadata": {
    "colab": {
     "base_uri": "https://localhost:8080/"
    },
    "id": "N3EV0msp3a5m",
    "outputId": "2313d3b9-70b8-4db3-c286-62624ebdbeb5"
   },
   "outputs": [
    {
     "data": {
      "text/plain": [
       "[[2,\n",
       "  40,\n",
       "  101,\n",
       "  60,\n",
       "  8,\n",
       "  15,\n",
       "  494,\n",
       "  5,\n",
       "  15,\n",
       "  3496,\n",
       "  553,\n",
       "  32,\n",
       "  60,\n",
       "  61,\n",
       "  128,\n",
       "  148,\n",
       "  76,\n",
       "  1480,\n",
       "  4,\n",
       "  22,\n",
       "  1255]]"
      ]
     },
     "execution_count": 15,
     "metadata": {
      "tags": []
     },
     "output_type": "execute_result"
    }
   ],
   "source": [
    "tokenizer.texts_to_sequences([tweets[1]])"
   ]
  },
  {
   "cell_type": "code",
   "execution_count": 16,
   "metadata": {
    "colab": {
     "base_uri": "https://localhost:8080/",
     "height": 35
    },
    "id": "OavYKS2v33Qs",
    "outputId": "608df56f-cad7-42fb-e10a-8b07aebcc8fc"
   },
   "outputs": [
    {
     "data": {
      "application/vnd.google.colaboratory.intrinsic+json": {
       "type": "string"
      },
      "text/plain": [
       "'i can go from feeling so hopeless to so damned hopeful just from being around someone who cares and is awake'"
      ]
     },
     "execution_count": 16,
     "metadata": {
      "tags": []
     },
     "output_type": "execute_result"
    }
   ],
   "source": [
    "tweets[1]"
   ]
  },
  {
   "cell_type": "code",
   "execution_count": 17,
   "metadata": {
    "id": "2UmcEVFc4FD0"
   },
   "outputs": [],
   "source": [
    "from tensorflow.keras.preprocessing.sequence import pad_sequences"
   ]
  },
  {
   "cell_type": "code",
   "execution_count": 18,
   "metadata": {
    "colab": {
     "base_uri": "https://localhost:8080/",
     "height": 265
    },
    "id": "dYhi1ECN4QHC",
    "outputId": "ba13a575-5f32-4b81-9058-8d6fd718c070"
   },
   "outputs": [
    {
     "data": {
      "image/png": "[encoded data removed]",
      "text/plain": [
       "<Figure size 432x288 with 1 Axes>"
      ]
     },
     "metadata": {
      "needs_background": "light",
      "tags": []
     },
     "output_type": "display_data"
    }
   ],
   "source": [
    "length=[len(t.split(' ')) for t in tweets]\n",
    "plt.hist(length,bins=len(set(length)))\n",
    "plt.show()"
   ]
  },
  {
   "cell_type": "code",
   "execution_count": 19,
   "metadata": {
    "id": "rOXjegyn4zyh"
   },
   "outputs": [],
   "source": [
    "max_length=50\n"
   ]
  },
  {
   "cell_type": "code",
   "execution_count": 20,
   "metadata": {
    "id": "qty_e97F45wZ"
   },
   "outputs": [],
   "source": [
    "def get_sequences(tokenizer,tweets):\n",
    "  sequences=tokenizer.texts_to_sequences(tweets)\n",
    "  padded_sequence=pad_sequences(sequences,padding='post',truncating='post',maxlen=max_length)\n",
    "  return padded_sequence"
   ]
  },
  {
   "cell_type": "code",
   "execution_count": 21,
   "metadata": {
    "id": "PI2lz10N5aCv"
   },
   "outputs": [],
   "source": [
    "padded_train_sequence=get_sequences(tokenizer,tweets)"
   ]
  },
  {
   "cell_type": "code",
   "execution_count": 22,
   "metadata": {
    "colab": {
     "base_uri": "https://localhost:8080/"
    },
    "id": "xQEUv52-5g8P",
    "outputId": "c53dfe83-79c9-46c0-aa92-853d042516ad"
   },
   "outputs": [
    {
     "data": {
      "text/plain": [
       "array([   2,   40,  101,   60,    8,   15,  494,    5,   15, 3496,  553,\n",
       "         32,   60,   61,  128,  148,   76, 1480,    4,   22, 1255,    0,\n",
       "          0,    0,    0,    0,    0,    0,    0,    0,    0,    0,    0,\n",
       "          0,    0,    0,    0,    0,    0,    0,    0,    0,    0,    0,\n",
       "          0,    0,    0,    0,    0,    0], dtype=int32)"
      ]
     },
     "execution_count": 22,
     "metadata": {
      "tags": []
     },
     "output_type": "execute_result"
    }
   ],
   "source": [
    "padded_train_sequence[1]"
   ]
  },
  {
   "cell_type": "code",
   "execution_count": 23,
   "metadata": {
    "colab": {
     "base_uri": "https://localhost:8080/"
    },
    "id": "cmiSjwJs5i2_",
    "outputId": "527042c3-c0bb-4c42-f3ce-1a8975685c21"
   },
   "outputs": [
    {
     "data": {
      "text/plain": [
       "{'anger', 'fear', 'joy', 'love', 'sadness', 'surprise'}"
      ]
     },
     "execution_count": 23,
     "metadata": {
      "tags": []
     },
     "output_type": "execute_result"
    }
   ],
   "source": [
    "classes=set(labels)\n",
    "classes"
   ]
  },
  {
   "cell_type": "code",
   "execution_count": 24,
   "metadata": {
    "colab": {
     "base_uri": "https://localhost:8080/",
     "height": 282
    },
    "id": "JD7zINdO5pRu",
    "outputId": "3034b8af-d6fc-4b05-ad83-5ab9c23e1a1d"
   },
   "outputs": [
    {
     "data": {
      "text/plain": [
       "<function matplotlib.pyplot.show>"
      ]
     },
     "execution_count": 24,
     "metadata": {
      "tags": []
     },
     "output_type": "execute_result"
    },
    {
     "data": {
      "image/png": "[encoded data removed]",
      "text/plain": [
       "<Figure size 432x288 with 1 Axes>"
      ]
     },
     "metadata": {
      "needs_background": "light",
      "tags": []
     },
     "output_type": "display_data"
    }
   ],
   "source": [
    "plt.hist(labels, bins=11)\n",
    "plt.show"
   ]
  },
  {
   "cell_type": "code",
   "execution_count": 25,
   "metadata": {
    "id": "P5bnWWGe5xVu"
   },
   "outputs": [],
   "source": [
    "class_to_index=dict((c,i) for i,c in enumerate(classes))\n",
    "index_to_class=dict((v,k) for k,v in class_to_index.items())"
   ]
  },
  {
   "cell_type": "code",
   "execution_count": 26,
   "metadata": {
    "colab": {
     "base_uri": "https://localhost:8080/"
    },
    "id": "4ynAZFYj6WkE",
    "outputId": "481d1dca-5166-4e93-f445-a3fe89f1ca45"
   },
   "outputs": [
    {
     "data": {
      "text/plain": [
       "{'anger': 3, 'fear': 5, 'joy': 4, 'love': 1, 'sadness': 0, 'surprise': 2}"
      ]
     },
     "execution_count": 26,
     "metadata": {
      "tags": []
     },
     "output_type": "execute_result"
    }
   ],
   "source": [
    "class_to_index"
   ]
  },
  {
   "cell_type": "code",
   "execution_count": 27,
   "metadata": {
    "colab": {
     "base_uri": "https://localhost:8080/"
    },
    "id": "3ZmpqLRQ6YgM",
    "outputId": "0c9919d3-a868-40fb-cc81-582caa6161b6"
   },
   "outputs": [
    {
     "data": {
      "text/plain": [
       "{0: 'sadness', 1: 'love', 2: 'surprise', 3: 'anger', 4: 'joy', 5: 'fear'}"
      ]
     },
     "execution_count": 27,
     "metadata": {
      "tags": []
     },
     "output_type": "execute_result"
    }
   ],
   "source": [
    "index_to_class"
   ]
  },
  {
   "cell_type": "code",
   "execution_count": 28,
   "metadata": {
    "id": "6XJrL0Gr6cw8"
   },
   "outputs": [],
   "source": [
    "name_to_ids= lambda labels:np.array([class_to_index.get(x) for x in labels])"
   ]
  },
  {
   "cell_type": "code",
   "execution_count": 29,
   "metadata": {
    "id": "sQfeujh06sC7"
   },
   "outputs": [],
   "source": [
    "  train_labels=name_to_ids(labels)"
   ]
  },
  {
   "cell_type": "code",
   "execution_count": 30,
   "metadata": {
    "colab": {
     "base_uri": "https://localhost:8080/"
    },
    "id": "-I6uclq86zHi",
    "outputId": "40982cb6-1477-4d07-9141-3dc79d988250"
   },
   "outputs": [
    {
     "data": {
      "text/plain": [
       "0"
      ]
     },
     "execution_count": 30,
     "metadata": {
      "tags": []
     },
     "output_type": "execute_result"
    }
   ],
   "source": [
    "train_labels[1]"
   ]
  },
  {
   "cell_type": "code",
   "execution_count": 31,
   "metadata": {
    "id": "BpX6hjpQ619i"
   },
   "outputs": [],
   "source": [
    "model=tf.keras.models.Sequential([\n",
    "                                  tf.keras.layers.Embedding(10000,16,input_length=max_length),\n",
    "                                  tf.keras.layers.Bidirectional(tf.keras.layers.LSTM(20,return_sequences=True)),\n",
    "                                  tf.keras.layers.Bidirectional(tf.keras.layers.LSTM(20)),\n",
    "                                  tf.keras.layers.Dense(6,activation='softmax')\n",
    "])\n",
    "\n",
    "model.compile(\n",
    "    loss='sparse_categorical_crossentropy',\n",
    "    optimizer='adam',\n",
    "    metrics=['accuracy']\n",
    ")"
   ]
  },
  {
   "cell_type": "code",
   "execution_count": 32,
   "metadata": {
    "colab": {
     "base_uri": "https://localhost:8080/"
    },
    "id": "TIiWbppR70bq",
    "outputId": "d72b203f-471e-4c5f-c412-393ad2e173c9"
   },
   "outputs": [
    {
     "name": "stdout",
     "output_type": "stream",
     "text": [
      "Model: \"sequential\"\n",
      "_________________________________________________________________\n",
      "Layer (type)                 Output Shape              Param #   \n",
      "=================================================================\n",
      "embedding (Embedding)        (None, 50, 16)            160000    \n",
      "_________________________________________________________________\n",
      "bidirectional (Bidirectional (None, 50, 40)            5920      \n",
      "_________________________________________________________________\n",
      "bidirectional_1 (Bidirection (None, 40)                9760      \n",
      "_________________________________________________________________\n",
      "dense (Dense)                (None, 6)                 246       \n",
      "=================================================================\n",
      "Total params: 175,926\n",
      "Trainable params: 175,926\n",
      "Non-trainable params: 0\n",
      "_________________________________________________________________\n"
     ]
    }
   ],
   "source": [
    "model.summary()"
   ]
  },
  {
   "cell_type": "code",
   "execution_count": 33,
   "metadata": {
    "id": "cmCRaVh372lI"
   },
   "outputs": [],
   "source": [
    "val_tweets,val_labels=get_tweets(val)\n",
    "val_seq=get_sequences(tokenizer,val_tweets)\n",
    "val_labels=name_to_ids(val_labels)"
   ]
  },
  {
   "cell_type": "code",
   "execution_count": 34,
   "metadata": {
    "colab": {
     "base_uri": "https://localhost:8080/"
    },
    "id": "4ixhaoTL8H9H",
    "outputId": "20917149-5541-49ea-805a-ab3b9690f756"
   },
   "outputs": [
    {
     "data": {
      "text/plain": [
       "('i feel like i am still looking at a blank canvas blank pieces of paper', 0)"
      ]
     },
     "execution_count": 34,
     "metadata": {
      "tags": []
     },
     "output_type": "execute_result"
    }
   ],
   "source": [
    "val_tweets[1],val_labels[1]"
   ]
  },
  {
   "cell_type": "code",
   "execution_count": 35,
   "metadata": {
    "colab": {
     "base_uri": "https://localhost:8080/"
    },
    "id": "mVPzI28-8LbW",
    "outputId": "a7e18286-3084-435b-c59e-c490b8160798"
   },
   "outputs": [
    {
     "name": "stdout",
     "output_type": "stream",
     "text": [
      "Epoch 1/20\n",
      "500/500 [==============================] - 28s 46ms/step - loss: 1.3122 - accuracy: 0.4956 - val_loss: 0.9130 - val_accuracy: 0.6655\n",
      "Epoch 2/20\n",
      "500/500 [==============================] - 21s 42ms/step - loss: 0.6981 - accuracy: 0.7528 - val_loss: 0.6393 - val_accuracy: 0.7990\n",
      "Epoch 3/20\n",
      "500/500 [==============================] - 21s 42ms/step - loss: 0.4132 - accuracy: 0.8603 - val_loss: 0.5015 - val_accuracy: 0.8365\n",
      "Epoch 4/20\n",
      "500/500 [==============================] - 22s 43ms/step - loss: 0.2544 - accuracy: 0.9194 - val_loss: 0.4185 - val_accuracy: 0.8690\n",
      "Epoch 5/20\n",
      "500/500 [==============================] - 21s 43ms/step - loss: 0.1661 - accuracy: 0.9496 - val_loss: 0.4756 - val_accuracy: 0.8605\n",
      "Epoch 6/20\n",
      "500/500 [==============================] - 23s 46ms/step - loss: 0.1262 - accuracy: 0.9615 - val_loss: 0.4272 - val_accuracy: 0.8815\n",
      "Epoch 7/20\n",
      "500/500 [==============================] - 21s 42ms/step - loss: 0.0938 - accuracy: 0.9722 - val_loss: 0.4418 - val_accuracy: 0.8785\n",
      "Epoch 8/20\n",
      "500/500 [==============================] - 22s 43ms/step - loss: 0.0791 - accuracy: 0.9758 - val_loss: 0.4220 - val_accuracy: 0.8895\n",
      "Epoch 9/20\n",
      "500/500 [==============================] - 21s 43ms/step - loss: 0.0632 - accuracy: 0.9818 - val_loss: 0.4402 - val_accuracy: 0.8880\n",
      "Epoch 10/20\n",
      "500/500 [==============================] - 21s 43ms/step - loss: 0.0524 - accuracy: 0.9841 - val_loss: 0.4283 - val_accuracy: 0.8855\n"
     ]
    }
   ],
   "source": [
    "history=model.fit(padded_train_sequence,train_labels,verbose=1,epochs=20,validation_data=(val_seq,val_labels),\n",
    "                  callbacks=[tf.keras.callbacks.EarlyStopping(monitor='val_accuracy',patience=2)])"
   ]
  },
  {
   "cell_type": "code",
   "execution_count": 36,
   "metadata": {
    "colab": {
     "base_uri": "https://localhost:8080/",
     "height": 392
    },
    "id": "gAFon2PK8xcl",
    "outputId": "2a1ad7cf-7480-4c3f-f42a-fde5e23e0721"
   },
   "outputs": [
    {
     "data": {
      "image/png": "[encoded data removed]",
      "text/plain": [
       "<Figure size 1152x432 with 2 Axes>"
      ]
     },
     "metadata": {
      "needs_background": "light",
      "tags": []
     },
     "output_type": "display_data"
    }
   ],
   "source": [
    "show_history(history)"
   ]
  },
  {
   "cell_type": "code",
   "execution_count": 37,
   "metadata": {
    "id": "Up1n--bn8__J"
   },
   "outputs": [],
   "source": [
    "test_tweets,test_labels=get_tweets(test)\n",
    "test_seq=get_sequences(tokenizer,test_tweets)\n",
    "test_labels=name_to_ids(test_labels)"
   ]
  },
  {
   "cell_type": "code",
   "execution_count": 38,
   "metadata": {
    "colab": {
     "base_uri": "https://localhost:8080/"
    },
    "id": "JqrjVE3o95Qh",
    "outputId": "c03f4ee9-0ad7-4d83-92bf-1d4bbc5d71de"
   },
   "outputs": [
    {
     "name": "stdout",
     "output_type": "stream",
     "text": [
      "63/63 [==============================] - 1s 12ms/step - loss: 0.3900 - accuracy: 0.8845\n"
     ]
    },
    {
     "data": {
      "text/plain": [
       "[0.39000698924064636, 0.8845000267028809]"
      ]
     },
     "execution_count": 38,
     "metadata": {
      "tags": []
     },
     "output_type": "execute_result"
    }
   ],
   "source": [
    "model.evaluate(test_seq,test_labels)"
   ]
  },
  {
   "cell_type": "code",
   "execution_count": 39,
   "metadata": {
    "colab": {
     "base_uri": "https://localhost:8080/"
    },
    "id": "z2L-UxcD-BB5",
    "outputId": "13709fbe-dde2-4467-cd2f-45f7fe2d5202"
   },
   "outputs": [
    {
     "name": "stdout",
     "output_type": "stream",
     "text": [
      "Sentence :  i first started reading city of dark magic i thought it would be a challenge to actually enjoy it since i felt like the content about famous classical music was over my head but luckily after plowing through the first chapter i became more confident and started feeling less dumb\n",
      "Label :  sadness\n",
      "Predicted emotion :  joy\n"
     ]
    }
   ],
   "source": [
    "i=random.randint(0,len(test_labels)-1)\n",
    "print('Sentence : ', test_tweets[i])\n",
    "print('Label : ', index_to_class[test_labels[i]])\n",
    "\n",
    "p=model.predict(np.expand_dims(test_seq[i],axis=0))[0]\n",
    "pred_class=index_to_class[np.argmax(p).astype('uint8')]\n",
    "print('Predicted emotion : ',pred_class)"
   ]
  },
  {
   "cell_type": "code",
   "execution_count": 40,
   "metadata": {
    "colab": {
     "base_uri": "https://localhost:8080/",
     "height": 526
    },
    "id": "GfibwboE_G64",
    "outputId": "c4faf60c-d9de-4456-ad3b-df576f8eaefb"
   },
   "outputs": [
    {
     "name": "stderr",
     "output_type": "stream",
     "text": [
      "/usr/local/lib/python3.7/dist-packages/tensorflow/python/keras/engine/sequential.py:455: UserWarning: `model.predict_classes()` is deprecated and will be removed after 2021-01-01. Please use instead:* `np.argmax(model.predict(x), axis=-1)`,   if your model does multi-class classification   (e.g. if it uses a `softmax` last-layer activation).* `(model.predict(x) > 0.5).astype(\"int32\")`,   if your model does binary classification   (e.g. if it uses a `sigmoid` last-layer activation).\n",
      "  warnings.warn('`model.predict_classes()` is deprecated and '\n"
     ]
    },
    {
     "data": {
      "image/png": "[encoded data removed]",
      "text/plain": [
       "<Figure size 576x576 with 2 Axes>"
      ]
     },
     "metadata": {
      "needs_background": "light",
      "tags": []
     },
     "output_type": "display_data"
    }
   ],
   "source": [
    "preds=model.predict_classes(test_seq)\n",
    "show_confusion_matrix(test_labels,preds,list(classes))"
   ]
  },
  {
   "cell_type": "code",
   "execution_count": 40,
   "metadata": {
    "id": "IgYIUO2f_ZuE"
   },
   "outputs": [],
   "source": []
  }
 ],
 "metadata": {
  "colab": {
   "collapsed_sections": [],
   "name": "TweetEmotionRecognizer.ipynb",
   "provenance": []
  },
  "kernelspec": {
   "display_name": "Python 3",
   "language": "python",
   "name": "python3"
  },
  "language_info": {
   "codemirror_mode": {
    "name": "ipython",
    "version": 3
   },
   "file_extension": ".py",
   "mimetype": "text/x-python",
   "name": "python",
   "nbconvert_exporter": "python",
   "pygments_lexer": "ipython3",
   "version": "3.7.10"
  }
 },
 "nbformat": 4,
 "nbformat_minor": 1
}
